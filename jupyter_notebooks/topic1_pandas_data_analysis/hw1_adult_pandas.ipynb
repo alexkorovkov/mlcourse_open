{
 "cells": [
  {
   "cell_type": "markdown",
   "metadata": {},
   "source": [
    "<center>\n",
    "<img src=\"../../img/ods_stickers.jpg\">\n",
    "## Открытый курс по машинному обучению\n",
    "</center>\n",
    "Автор материала: программист-исследователь Mail.ru Group, старший преподаватель Факультета Компьютерных Наук ВШЭ Юрий Кашницкий"
   ]
  },
  {
   "cell_type": "markdown",
   "metadata": {},
   "source": [
    "# <center>Домашнее задание 1. <br> Анализ данных по доходу населения UCI Adult</center>"
   ]
  },
  {
   "cell_type": "markdown",
   "metadata": {},
   "source": [
    "**В задании предлагается с помощью Pandas ответить на несколько вопросов по данным репозитория UCI [Adult](https://archive.ics.uci.edu/ml/datasets/Adult). Для отправки решений используйте [онлайн-форму](https://goo.gl/forms/pB1tDIArMvTUsIUg2).**"
   ]
  },
  {
   "cell_type": "markdown",
   "metadata": {},
   "source": [
    "Уникальные значения признаков (больше информации по ссылке выше):\n",
    "- age: continuous.\n",
    "- workclass: Private, Self-emp-not-inc, Self-emp-inc, Federal-gov, Local-gov, State-gov, Without-pay, Never-worked.\n",
    "- fnlwgt: continuous.\n",
    "- education: Bachelors, Some-college, 11th, HS-grad, Prof-school, Assoc-acdm, Assoc-voc, 9th, 7th-8th, 12th, Masters, 1st-4th, 10th, Doctorate, 5th-6th, Preschool.\n",
    "- education-num: continuous.\n",
    "- marital-status: Married-civ-spouse, Divorced, Never-married, Separated, Widowed, Married-spouse-absent, Married-AF-spouse.\n",
    "- occupation: Tech-support, Craft-repair, Other-service, Sales, Exec-managerial, Prof-specialty, Handlers-cleaners, Machine-op-inspct, Adm-clerical, Farming-fishing, Transport-moving, Priv-house-serv, Protective-serv, Armed-Forces.\n",
    "- relationship: Wife, Own-child, Husband, Not-in-family, Other-relative, Unmarried.\n",
    "- race: White, Asian-Pac-Islander, Amer-Indian-Eskimo, Other, Black.\n",
    "- sex: Female, Male.\n",
    "- capital-gain: continuous.\n",
    "- capital-loss: continuous.\n",
    "- hours-per-week: continuous.\n",
    "- native-country: United-States, Cambodia, England, Puerto-Rico, Canada, Germany, Outlying-US(Guam-USVI-etc), India, Japan, Greece, South, China, Cuba, Iran, Honduras, Philippines, Italy, Poland, Jamaica, Vietnam, Mexico, Portugal, Ireland, France, Dominican-Republic, Laos, Ecuador, Taiwan, Haiti, Columbia, Hungary, Guatemala, Nicaragua, Scotland, Thailand, Yugoslavia, El-Salvador, Trinadad&Tobago, Peru, Hong, Holand-Netherlands.   \n",
    "- salary: >50K,<=50K"
   ]
  },
  {
   "cell_type": "code",
   "execution_count": 2,
   "metadata": {
    "collapsed": false
   },
   "outputs": [],
   "source": [
    "# Python 2 and 3 compatibility\n",
    "# pip install future\n",
    "from __future__ import (absolute_import, division,\n",
    "                        print_function, unicode_literals)\n",
    "# отключим предупреждения Anaconda\n",
    "import warnings\n",
    "warnings.simplefilter('ignore')\n",
    "import pandas as pd\n",
    "import numpy as np"
   ]
  },
  {
   "cell_type": "code",
   "execution_count": 3,
   "metadata": {
    "collapsed": false
   },
   "outputs": [
    {
     "data": {
      "text/html": [
       "<div>\n",
       "<table border=\"1\" class=\"dataframe\">\n",
       "  <thead>\n",
       "    <tr style=\"text-align: right;\">\n",
       "      <th></th>\n",
       "      <th>age</th>\n",
       "      <th>workclass</th>\n",
       "      <th>fnlwgt</th>\n",
       "      <th>education</th>\n",
       "      <th>education-num</th>\n",
       "      <th>marital-status</th>\n",
       "      <th>occupation</th>\n",
       "      <th>relationship</th>\n",
       "      <th>race</th>\n",
       "      <th>sex</th>\n",
       "      <th>capital-gain</th>\n",
       "      <th>capital-loss</th>\n",
       "      <th>hours-per-week</th>\n",
       "      <th>native-country</th>\n",
       "      <th>salary</th>\n",
       "    </tr>\n",
       "  </thead>\n",
       "  <tbody>\n",
       "    <tr>\n",
       "      <th>0</th>\n",
       "      <td>39</td>\n",
       "      <td>State-gov</td>\n",
       "      <td>77516</td>\n",
       "      <td>Bachelors</td>\n",
       "      <td>13</td>\n",
       "      <td>Never-married</td>\n",
       "      <td>Adm-clerical</td>\n",
       "      <td>Not-in-family</td>\n",
       "      <td>White</td>\n",
       "      <td>Male</td>\n",
       "      <td>2174</td>\n",
       "      <td>0</td>\n",
       "      <td>40</td>\n",
       "      <td>United-States</td>\n",
       "      <td>&lt;=50K</td>\n",
       "    </tr>\n",
       "    <tr>\n",
       "      <th>1</th>\n",
       "      <td>50</td>\n",
       "      <td>Self-emp-not-inc</td>\n",
       "      <td>83311</td>\n",
       "      <td>Bachelors</td>\n",
       "      <td>13</td>\n",
       "      <td>Married-civ-spouse</td>\n",
       "      <td>Exec-managerial</td>\n",
       "      <td>Husband</td>\n",
       "      <td>White</td>\n",
       "      <td>Male</td>\n",
       "      <td>0</td>\n",
       "      <td>0</td>\n",
       "      <td>13</td>\n",
       "      <td>United-States</td>\n",
       "      <td>&lt;=50K</td>\n",
       "    </tr>\n",
       "    <tr>\n",
       "      <th>2</th>\n",
       "      <td>38</td>\n",
       "      <td>Private</td>\n",
       "      <td>215646</td>\n",
       "      <td>HS-grad</td>\n",
       "      <td>9</td>\n",
       "      <td>Divorced</td>\n",
       "      <td>Handlers-cleaners</td>\n",
       "      <td>Not-in-family</td>\n",
       "      <td>White</td>\n",
       "      <td>Male</td>\n",
       "      <td>0</td>\n",
       "      <td>0</td>\n",
       "      <td>40</td>\n",
       "      <td>United-States</td>\n",
       "      <td>&lt;=50K</td>\n",
       "    </tr>\n",
       "    <tr>\n",
       "      <th>3</th>\n",
       "      <td>53</td>\n",
       "      <td>Private</td>\n",
       "      <td>234721</td>\n",
       "      <td>11th</td>\n",
       "      <td>7</td>\n",
       "      <td>Married-civ-spouse</td>\n",
       "      <td>Handlers-cleaners</td>\n",
       "      <td>Husband</td>\n",
       "      <td>Black</td>\n",
       "      <td>Male</td>\n",
       "      <td>0</td>\n",
       "      <td>0</td>\n",
       "      <td>40</td>\n",
       "      <td>United-States</td>\n",
       "      <td>&lt;=50K</td>\n",
       "    </tr>\n",
       "    <tr>\n",
       "      <th>4</th>\n",
       "      <td>28</td>\n",
       "      <td>Private</td>\n",
       "      <td>338409</td>\n",
       "      <td>Bachelors</td>\n",
       "      <td>13</td>\n",
       "      <td>Married-civ-spouse</td>\n",
       "      <td>Prof-specialty</td>\n",
       "      <td>Wife</td>\n",
       "      <td>Black</td>\n",
       "      <td>Female</td>\n",
       "      <td>0</td>\n",
       "      <td>0</td>\n",
       "      <td>40</td>\n",
       "      <td>Cuba</td>\n",
       "      <td>&lt;=50K</td>\n",
       "    </tr>\n",
       "  </tbody>\n",
       "</table>\n",
       "</div>"
      ],
      "text/plain": [
       "   age         workclass  fnlwgt  education  education-num  \\\n",
       "0   39         State-gov   77516  Bachelors             13   \n",
       "1   50  Self-emp-not-inc   83311  Bachelors             13   \n",
       "2   38           Private  215646    HS-grad              9   \n",
       "3   53           Private  234721       11th              7   \n",
       "4   28           Private  338409  Bachelors             13   \n",
       "\n",
       "       marital-status         occupation   relationship   race     sex  \\\n",
       "0       Never-married       Adm-clerical  Not-in-family  White    Male   \n",
       "1  Married-civ-spouse    Exec-managerial        Husband  White    Male   \n",
       "2            Divorced  Handlers-cleaners  Not-in-family  White    Male   \n",
       "3  Married-civ-spouse  Handlers-cleaners        Husband  Black    Male   \n",
       "4  Married-civ-spouse     Prof-specialty           Wife  Black  Female   \n",
       "\n",
       "   capital-gain  capital-loss  hours-per-week native-country salary  \n",
       "0          2174             0              40  United-States  <=50K  \n",
       "1             0             0              13  United-States  <=50K  \n",
       "2             0             0              40  United-States  <=50K  \n",
       "3             0             0              40  United-States  <=50K  \n",
       "4             0             0              40           Cuba  <=50K  "
      ]
     },
     "execution_count": 3,
     "metadata": {},
     "output_type": "execute_result"
    }
   ],
   "source": [
    "data = pd.read_csv('../../data/adult.data.csv')\n",
    "pd.set_option('display.max_columns', 100)\n",
    "pd.set_option('display.max_rows', 100)\n",
    "pd.set_option('precision', 2)\n",
    "\n",
    "data.head()"
   ]
  },
  {
   "cell_type": "code",
   "execution_count": 35,
   "metadata": {
    "collapsed": false
   },
   "outputs": [
    {
     "name": "stdout",
     "output_type": "stream",
     "text": [
      "(32561, 15)\n"
     ]
    },
    {
     "data": {
      "text/html": [
       "<div>\n",
       "<table border=\"1\" class=\"dataframe\">\n",
       "  <thead>\n",
       "    <tr style=\"text-align: right;\">\n",
       "      <th></th>\n",
       "      <th>age</th>\n",
       "      <th>fnlwgt</th>\n",
       "      <th>education-num</th>\n",
       "      <th>capital-gain</th>\n",
       "      <th>capital-loss</th>\n",
       "      <th>hours-per-week</th>\n",
       "    </tr>\n",
       "  </thead>\n",
       "  <tbody>\n",
       "    <tr>\n",
       "      <th>count</th>\n",
       "      <td>32561.00</td>\n",
       "      <td>3.26e+04</td>\n",
       "      <td>32561.00</td>\n",
       "      <td>32561.00</td>\n",
       "      <td>32561.00</td>\n",
       "      <td>32561.00</td>\n",
       "    </tr>\n",
       "    <tr>\n",
       "      <th>mean</th>\n",
       "      <td>38.58</td>\n",
       "      <td>1.90e+05</td>\n",
       "      <td>10.08</td>\n",
       "      <td>1077.65</td>\n",
       "      <td>87.30</td>\n",
       "      <td>40.44</td>\n",
       "    </tr>\n",
       "    <tr>\n",
       "      <th>std</th>\n",
       "      <td>13.64</td>\n",
       "      <td>1.06e+05</td>\n",
       "      <td>2.57</td>\n",
       "      <td>7385.29</td>\n",
       "      <td>402.96</td>\n",
       "      <td>12.35</td>\n",
       "    </tr>\n",
       "    <tr>\n",
       "      <th>min</th>\n",
       "      <td>17.00</td>\n",
       "      <td>1.23e+04</td>\n",
       "      <td>1.00</td>\n",
       "      <td>0.00</td>\n",
       "      <td>0.00</td>\n",
       "      <td>1.00</td>\n",
       "    </tr>\n",
       "    <tr>\n",
       "      <th>25%</th>\n",
       "      <td>28.00</td>\n",
       "      <td>1.18e+05</td>\n",
       "      <td>9.00</td>\n",
       "      <td>0.00</td>\n",
       "      <td>0.00</td>\n",
       "      <td>40.00</td>\n",
       "    </tr>\n",
       "    <tr>\n",
       "      <th>50%</th>\n",
       "      <td>37.00</td>\n",
       "      <td>1.78e+05</td>\n",
       "      <td>10.00</td>\n",
       "      <td>0.00</td>\n",
       "      <td>0.00</td>\n",
       "      <td>40.00</td>\n",
       "    </tr>\n",
       "    <tr>\n",
       "      <th>75%</th>\n",
       "      <td>48.00</td>\n",
       "      <td>2.37e+05</td>\n",
       "      <td>12.00</td>\n",
       "      <td>0.00</td>\n",
       "      <td>0.00</td>\n",
       "      <td>45.00</td>\n",
       "    </tr>\n",
       "    <tr>\n",
       "      <th>max</th>\n",
       "      <td>90.00</td>\n",
       "      <td>1.48e+06</td>\n",
       "      <td>16.00</td>\n",
       "      <td>99999.00</td>\n",
       "      <td>4356.00</td>\n",
       "      <td>99.00</td>\n",
       "    </tr>\n",
       "  </tbody>\n",
       "</table>\n",
       "</div>"
      ],
      "text/plain": [
       "            age    fnlwgt  education-num  capital-gain  capital-loss  \\\n",
       "count  32561.00  3.26e+04       32561.00      32561.00      32561.00   \n",
       "mean      38.58  1.90e+05          10.08       1077.65         87.30   \n",
       "std       13.64  1.06e+05           2.57       7385.29        402.96   \n",
       "min       17.00  1.23e+04           1.00          0.00          0.00   \n",
       "25%       28.00  1.18e+05           9.00          0.00          0.00   \n",
       "50%       37.00  1.78e+05          10.00          0.00          0.00   \n",
       "75%       48.00  2.37e+05          12.00          0.00          0.00   \n",
       "max       90.00  1.48e+06          16.00      99999.00       4356.00   \n",
       "\n",
       "       hours-per-week  \n",
       "count        32561.00  \n",
       "mean            40.44  \n",
       "std             12.35  \n",
       "min              1.00  \n",
       "25%             40.00  \n",
       "50%             40.00  \n",
       "75%             45.00  \n",
       "max             99.00  "
      ]
     },
     "execution_count": 35,
     "metadata": {},
     "output_type": "execute_result"
    }
   ],
   "source": [
    "print(data.shape)\n",
    "data.describe()"
   ]
  },
  {
   "cell_type": "code",
   "execution_count": 10,
   "metadata": {
    "collapsed": false
   },
   "outputs": [
    {
     "name": "stdout",
     "output_type": "stream",
     "text": [
      "<class 'pandas.core.frame.DataFrame'>\n",
      "RangeIndex: 32561 entries, 0 to 32560\n",
      "Data columns (total 15 columns):\n",
      "age               32561 non-null int64\n",
      "workclass         32561 non-null object\n",
      "fnlwgt            32561 non-null int64\n",
      "education         32561 non-null object\n",
      "education-num     32561 non-null int64\n",
      "marital-status    32561 non-null object\n",
      "occupation        32561 non-null object\n",
      "relationship      32561 non-null object\n",
      "race              32561 non-null object\n",
      "sex               32561 non-null object\n",
      "capital-gain      32561 non-null int64\n",
      "capital-loss      32561 non-null int64\n",
      "hours-per-week    32561 non-null int64\n",
      "native-country    32561 non-null object\n",
      "salary            32561 non-null object\n",
      "dtypes: int64(6), object(9)\n",
      "memory usage: 3.7+ MB\n"
     ]
    }
   ],
   "source": [
    "data.info()"
   ]
  },
  {
   "cell_type": "code",
   "execution_count": 12,
   "metadata": {
    "collapsed": false
   },
   "outputs": [
    {
     "data": {
      "text/html": [
       "<div>\n",
       "<table border=\"1\" class=\"dataframe\">\n",
       "  <thead>\n",
       "    <tr style=\"text-align: right;\">\n",
       "      <th></th>\n",
       "      <th>workclass</th>\n",
       "      <th>education</th>\n",
       "      <th>marital-status</th>\n",
       "      <th>occupation</th>\n",
       "      <th>relationship</th>\n",
       "      <th>race</th>\n",
       "      <th>sex</th>\n",
       "      <th>native-country</th>\n",
       "      <th>salary</th>\n",
       "    </tr>\n",
       "  </thead>\n",
       "  <tbody>\n",
       "    <tr>\n",
       "      <th>count</th>\n",
       "      <td>32561</td>\n",
       "      <td>32561</td>\n",
       "      <td>32561</td>\n",
       "      <td>32561</td>\n",
       "      <td>32561</td>\n",
       "      <td>32561</td>\n",
       "      <td>32561</td>\n",
       "      <td>32561</td>\n",
       "      <td>32561</td>\n",
       "    </tr>\n",
       "    <tr>\n",
       "      <th>unique</th>\n",
       "      <td>9</td>\n",
       "      <td>16</td>\n",
       "      <td>7</td>\n",
       "      <td>15</td>\n",
       "      <td>6</td>\n",
       "      <td>5</td>\n",
       "      <td>2</td>\n",
       "      <td>42</td>\n",
       "      <td>2</td>\n",
       "    </tr>\n",
       "    <tr>\n",
       "      <th>top</th>\n",
       "      <td>Private</td>\n",
       "      <td>HS-grad</td>\n",
       "      <td>Married-civ-spouse</td>\n",
       "      <td>Prof-specialty</td>\n",
       "      <td>Husband</td>\n",
       "      <td>White</td>\n",
       "      <td>Male</td>\n",
       "      <td>United-States</td>\n",
       "      <td>&lt;=50K</td>\n",
       "    </tr>\n",
       "    <tr>\n",
       "      <th>freq</th>\n",
       "      <td>22696</td>\n",
       "      <td>10501</td>\n",
       "      <td>14976</td>\n",
       "      <td>4140</td>\n",
       "      <td>13193</td>\n",
       "      <td>27816</td>\n",
       "      <td>21790</td>\n",
       "      <td>29170</td>\n",
       "      <td>24720</td>\n",
       "    </tr>\n",
       "  </tbody>\n",
       "</table>\n",
       "</div>"
      ],
      "text/plain": [
       "       workclass education      marital-status      occupation relationship  \\\n",
       "count      32561     32561               32561           32561        32561   \n",
       "unique         9        16                   7              15            6   \n",
       "top      Private   HS-grad  Married-civ-spouse  Prof-specialty      Husband   \n",
       "freq       22696     10501               14976            4140        13193   \n",
       "\n",
       "         race    sex native-country salary  \n",
       "count   32561  32561          32561  32561  \n",
       "unique      5      2             42      2  \n",
       "top     White   Male  United-States  <=50K  \n",
       "freq    27816  21790          29170  24720  "
      ]
     },
     "execution_count": 12,
     "metadata": {},
     "output_type": "execute_result"
    }
   ],
   "source": [
    "data.describe(include=['object'])"
   ]
  },
  {
   "cell_type": "markdown",
   "metadata": {},
   "source": [
    "**1. Сколько мужчин и женщин (признак sex) представлено в этом наборе данных?**"
   ]
  },
  {
   "cell_type": "code",
   "execution_count": 23,
   "metadata": {
    "collapsed": false
   },
   "outputs": [
    {
     "data": {
      "text/plain": [
       "Male      21790\n",
       "Female    10771\n",
       "Name: sex, dtype: int64"
      ]
     },
     "execution_count": 23,
     "metadata": {},
     "output_type": "execute_result"
    }
   ],
   "source": [
    "# Ваш код здесь\n",
    "data['sex'].value_counts()"
   ]
  },
  {
   "cell_type": "markdown",
   "metadata": {},
   "source": [
    "**2. Каков средний возраст (признак age) женщин?**"
   ]
  },
  {
   "cell_type": "code",
   "execution_count": 36,
   "metadata": {
    "collapsed": false
   },
   "outputs": [
    {
     "data": {
      "text/plain": [
       "36.85823043357163"
      ]
     },
     "execution_count": 36,
     "metadata": {},
     "output_type": "execute_result"
    }
   ],
   "source": [
    "# Ваш код здесь\n",
    "\n",
    "data[data['sex'] == 'Female']['age'].mean()"
   ]
  },
  {
   "cell_type": "markdown",
   "metadata": {},
   "source": [
    "**3. Какова доля граждан Германии (признак native-country)?**"
   ]
  },
  {
   "cell_type": "code",
   "execution_count": 49,
   "metadata": {
    "collapsed": false
   },
   "outputs": [
    {
     "data": {
      "text/plain": [
       "0                     United-States\n",
       "4                              Cuba\n",
       "6                           Jamaica\n",
       "11                            India\n",
       "14                                ?\n",
       "15                           Mexico\n",
       "27                            South\n",
       "35                      Puerto-Rico\n",
       "52                         Honduras\n",
       "98                          England\n",
       "112                          Canada\n",
       "122                         Germany\n",
       "135                            Iran\n",
       "152                     Philippines\n",
       "201                           Italy\n",
       "217                          Poland\n",
       "228                        Columbia\n",
       "255                        Cambodia\n",
       "265                        Thailand\n",
       "289                         Ecuador\n",
       "304                            Laos\n",
       "311                          Taiwan\n",
       "338                           Haiti\n",
       "359                        Portugal\n",
       "427              Dominican-Republic\n",
       "497                     El-Salvador\n",
       "503                          France\n",
       "771                       Guatemala\n",
       "873                           China\n",
       "1020                          Japan\n",
       "1025                     Yugoslavia\n",
       "1430                           Peru\n",
       "1565     Outlying-US(Guam-USVI-etc)\n",
       "1586                       Scotland\n",
       "1794                Trinadad&Tobago\n",
       "1888                         Greece\n",
       "1948                      Nicaragua\n",
       "2259                        Vietnam\n",
       "2655                           Hong\n",
       "2966                        Ireland\n",
       "8562                        Hungary\n",
       "19609            Holand-Netherlands\n",
       "Name: native-country, dtype: object"
      ]
     },
     "execution_count": 49,
     "metadata": {},
     "output_type": "execute_result"
    }
   ],
   "source": [
    "data[\"native-country\"].drop_duplicates()"
   ]
  },
  {
   "cell_type": "code",
   "execution_count": 56,
   "metadata": {
    "collapsed": false
   },
   "outputs": [
    {
     "data": {
      "text/plain": [
       "0.0042074874850281012"
      ]
     },
     "execution_count": 56,
     "metadata": {},
     "output_type": "execute_result"
    }
   ],
   "source": [
    "data[\"native-country\"].value_counts(normalize=True)['Germany']"
   ]
  },
  {
   "cell_type": "code",
   "execution_count": 24,
   "metadata": {
    "collapsed": false
   },
   "outputs": [
    {
     "data": {
      "text/plain": [
       "United-States                 8.96e-01\n",
       "Mexico                        1.97e-02\n",
       "?                             1.79e-02\n",
       "Philippines                   6.08e-03\n",
       "Germany                       4.21e-03\n",
       "Canada                        3.72e-03\n",
       "Puerto-Rico                   3.50e-03\n",
       "El-Salvador                   3.26e-03\n",
       "India                         3.07e-03\n",
       "Cuba                          2.92e-03\n",
       "England                       2.76e-03\n",
       "Jamaica                       2.49e-03\n",
       "South                         2.46e-03\n",
       "China                         2.30e-03\n",
       "Italy                         2.24e-03\n",
       "Dominican-Republic            2.15e-03\n",
       "Vietnam                       2.06e-03\n",
       "Guatemala                     1.97e-03\n",
       "Japan                         1.90e-03\n",
       "Poland                        1.84e-03\n",
       "Columbia                      1.81e-03\n",
       "Taiwan                        1.57e-03\n",
       "Haiti                         1.35e-03\n",
       "Iran                          1.32e-03\n",
       "Portugal                      1.14e-03\n",
       "Nicaragua                     1.04e-03\n",
       "Peru                          9.52e-04\n",
       "France                        8.91e-04\n",
       "Greece                        8.91e-04\n",
       "Ecuador                       8.60e-04\n",
       "Ireland                       7.37e-04\n",
       "Hong                          6.14e-04\n",
       "Trinadad&Tobago               5.84e-04\n",
       "Cambodia                      5.84e-04\n",
       "Thailand                      5.53e-04\n",
       "Laos                          5.53e-04\n",
       "Yugoslavia                    4.91e-04\n",
       "Outlying-US(Guam-USVI-etc)    4.30e-04\n",
       "Honduras                      3.99e-04\n",
       "Hungary                       3.99e-04\n",
       "Scotland                      3.69e-04\n",
       "Holand-Netherlands            3.07e-05\n",
       "Name: native-country, dtype: float64"
      ]
     },
     "execution_count": 24,
     "metadata": {},
     "output_type": "execute_result"
    }
   ],
   "source": [
    "data[\"native-country\"].value_counts(normalize=True)"
   ]
  },
  {
   "cell_type": "code",
   "execution_count": 63,
   "metadata": {
    "collapsed": false
   },
   "outputs": [
    {
     "data": {
      "image/png": "[encoded data removed]",
      "text/plain": [
       "<matplotlib.figure.Figure at 0x112520d30>"
      ]
     },
     "metadata": {},
     "output_type": "display_data"
    }
   ],
   "source": [
    "# Ваш код здесь\n"
   ]
  },
  {
   "cell_type": "markdown",
   "metadata": {},
   "source": [
    "**4. Постройте гистограмму распределения (bar plot) образования людей (признак education).**"
   ]
  },
  {
   "cell_type": "code",
   "execution_count": 92,
   "metadata": {
    "collapsed": false
   },
   "outputs": [
    {
     "data": {
      "text/plain": [
       "<matplotlib.axes._subplots.AxesSubplot at 0x114dad080>"
      ]
     },
     "execution_count": 92,
     "metadata": {},
     "output_type": "execute_result"
    },
    {
     "data": {
      "image/png": "[encoded data removed]",
      "text/plain": [
       "<matplotlib.figure.Figure at 0x112920f60>"
      ]
     },
     "metadata": {},
     "output_type": "display_data"
    }
   ],
   "source": [
    "# Ваш код здесь\n",
    "data['education'].value_counts(normalize=True).plot(kind = 'bar')\n"
   ]
  },
  {
   "cell_type": "code",
   "execution_count": 100,
   "metadata": {
    "collapsed": false
   },
   "outputs": [
    {
     "ename": "TypeError",
     "evalue": "Empty 'DataFrame': no numeric data to plot",
     "output_type": "error",
     "traceback": [
      "\u001b[0;31m---------------------------------------------------------------------------\u001b[0m",
      "\u001b[0;31mTypeError\u001b[0m                                 Traceback (most recent call last)",
      "\u001b[0;32m<ipython-input-100-eb39bece1b12>\u001b[0m in \u001b[0;36m<module>\u001b[0;34m()\u001b[0m\n\u001b[0;32m----> 1\u001b[0;31m \u001b[0mdata\u001b[0m\u001b[0;34m[\u001b[0m\u001b[0;34m'education'\u001b[0m\u001b[0;34m]\u001b[0m\u001b[0;34m.\u001b[0m\u001b[0mplot\u001b[0m\u001b[0;34m(\u001b[0m\u001b[0mkind\u001b[0m \u001b[0;34m=\u001b[0m \u001b[0;34m'hist'\u001b[0m\u001b[0;34m)\u001b[0m\u001b[0;34m\u001b[0m\u001b[0m\n\u001b[0m",
      "\u001b[0;32m/Users/deniska/anaconda/lib/python3.6/site-packages/pandas/tools/plotting.py\u001b[0m in \u001b[0;36m__call__\u001b[0;34m(self, kind, ax, figsize, use_index, title, grid, legend, style, logx, logy, loglog, xticks, yticks, xlim, ylim, rot, fontsize, colormap, table, yerr, xerr, label, secondary_y, **kwds)\u001b[0m\n\u001b[1;32m   3598\u001b[0m                            \u001b[0mcolormap\u001b[0m\u001b[0;34m=\u001b[0m\u001b[0mcolormap\u001b[0m\u001b[0;34m,\u001b[0m \u001b[0mtable\u001b[0m\u001b[0;34m=\u001b[0m\u001b[0mtable\u001b[0m\u001b[0;34m,\u001b[0m \u001b[0myerr\u001b[0m\u001b[0;34m=\u001b[0m\u001b[0myerr\u001b[0m\u001b[0;34m,\u001b[0m\u001b[0;34m\u001b[0m\u001b[0m\n\u001b[1;32m   3599\u001b[0m                            \u001b[0mxerr\u001b[0m\u001b[0;34m=\u001b[0m\u001b[0mxerr\u001b[0m\u001b[0;34m,\u001b[0m \u001b[0mlabel\u001b[0m\u001b[0;34m=\u001b[0m\u001b[0mlabel\u001b[0m\u001b[0;34m,\u001b[0m \u001b[0msecondary_y\u001b[0m\u001b[0;34m=\u001b[0m\u001b[0msecondary_y\u001b[0m\u001b[0;34m,\u001b[0m\u001b[0;34m\u001b[0m\u001b[0m\n\u001b[0;32m-> 3600\u001b[0;31m                            **kwds)\n\u001b[0m\u001b[1;32m   3601\u001b[0m     \u001b[0m__call__\u001b[0m\u001b[0;34m.\u001b[0m\u001b[0m__doc__\u001b[0m \u001b[0;34m=\u001b[0m \u001b[0mplot_series\u001b[0m\u001b[0;34m.\u001b[0m\u001b[0m__doc__\u001b[0m\u001b[0;34m\u001b[0m\u001b[0m\n\u001b[1;32m   3602\u001b[0m \u001b[0;34m\u001b[0m\u001b[0m\n",
      "\u001b[0;32m/Users/deniska/anaconda/lib/python3.6/site-packages/pandas/tools/plotting.py\u001b[0m in \u001b[0;36mplot_series\u001b[0;34m(data, kind, ax, figsize, use_index, title, grid, legend, style, logx, logy, loglog, xticks, yticks, xlim, ylim, rot, fontsize, colormap, table, yerr, xerr, label, secondary_y, **kwds)\u001b[0m\n\u001b[1;32m   2672\u001b[0m                  \u001b[0myerr\u001b[0m\u001b[0;34m=\u001b[0m\u001b[0myerr\u001b[0m\u001b[0;34m,\u001b[0m \u001b[0mxerr\u001b[0m\u001b[0;34m=\u001b[0m\u001b[0mxerr\u001b[0m\u001b[0;34m,\u001b[0m\u001b[0;34m\u001b[0m\u001b[0m\n\u001b[1;32m   2673\u001b[0m                  \u001b[0mlabel\u001b[0m\u001b[0;34m=\u001b[0m\u001b[0mlabel\u001b[0m\u001b[0;34m,\u001b[0m \u001b[0msecondary_y\u001b[0m\u001b[0;34m=\u001b[0m\u001b[0msecondary_y\u001b[0m\u001b[0;34m,\u001b[0m\u001b[0;34m\u001b[0m\u001b[0m\n\u001b[0;32m-> 2674\u001b[0;31m                  **kwds)\n\u001b[0m\u001b[1;32m   2675\u001b[0m \u001b[0;34m\u001b[0m\u001b[0m\n\u001b[1;32m   2676\u001b[0m \u001b[0;34m\u001b[0m\u001b[0m\n",
      "\u001b[0;32m/Users/deniska/anaconda/lib/python3.6/site-packages/pandas/tools/plotting.py\u001b[0m in \u001b[0;36m_plot\u001b[0;34m(data, x, y, subplots, ax, kind, **kwds)\u001b[0m\n\u001b[1;32m   2468\u001b[0m         \u001b[0mplot_obj\u001b[0m \u001b[0;34m=\u001b[0m \u001b[0mklass\u001b[0m\u001b[0;34m(\u001b[0m\u001b[0mdata\u001b[0m\u001b[0;34m,\u001b[0m \u001b[0msubplots\u001b[0m\u001b[0;34m=\u001b[0m\u001b[0msubplots\u001b[0m\u001b[0;34m,\u001b[0m \u001b[0max\u001b[0m\u001b[0;34m=\u001b[0m\u001b[0max\u001b[0m\u001b[0;34m,\u001b[0m \u001b[0mkind\u001b[0m\u001b[0;34m=\u001b[0m\u001b[0mkind\u001b[0m\u001b[0;34m,\u001b[0m \u001b[0;34m**\u001b[0m\u001b[0mkwds\u001b[0m\u001b[0;34m)\u001b[0m\u001b[0;34m\u001b[0m\u001b[0m\n\u001b[1;32m   2469\u001b[0m \u001b[0;34m\u001b[0m\u001b[0m\n\u001b[0;32m-> 2470\u001b[0;31m     \u001b[0mplot_obj\u001b[0m\u001b[0;34m.\u001b[0m\u001b[0mgenerate\u001b[0m\u001b[0;34m(\u001b[0m\u001b[0;34m)\u001b[0m\u001b[0;34m\u001b[0m\u001b[0m\n\u001b[0m\u001b[1;32m   2471\u001b[0m     \u001b[0mplot_obj\u001b[0m\u001b[0;34m.\u001b[0m\u001b[0mdraw\u001b[0m\u001b[0;34m(\u001b[0m\u001b[0;34m)\u001b[0m\u001b[0;34m\u001b[0m\u001b[0m\n\u001b[1;32m   2472\u001b[0m     \u001b[0;32mreturn\u001b[0m \u001b[0mplot_obj\u001b[0m\u001b[0;34m.\u001b[0m\u001b[0mresult\u001b[0m\u001b[0;34m\u001b[0m\u001b[0m\n",
      "\u001b[0;32m/Users/deniska/anaconda/lib/python3.6/site-packages/pandas/tools/plotting.py\u001b[0m in \u001b[0;36mgenerate\u001b[0;34m(self)\u001b[0m\n\u001b[1;32m   1039\u001b[0m     \u001b[0;32mdef\u001b[0m \u001b[0mgenerate\u001b[0m\u001b[0;34m(\u001b[0m\u001b[0mself\u001b[0m\u001b[0;34m)\u001b[0m\u001b[0;34m:\u001b[0m\u001b[0;34m\u001b[0m\u001b[0m\n\u001b[1;32m   1040\u001b[0m         \u001b[0mself\u001b[0m\u001b[0;34m.\u001b[0m\u001b[0m_args_adjust\u001b[0m\u001b[0;34m(\u001b[0m\u001b[0;34m)\u001b[0m\u001b[0;34m\u001b[0m\u001b[0m\n\u001b[0;32m-> 1041\u001b[0;31m         \u001b[0mself\u001b[0m\u001b[0;34m.\u001b[0m\u001b[0m_compute_plot_data\u001b[0m\u001b[0;34m(\u001b[0m\u001b[0;34m)\u001b[0m\u001b[0;34m\u001b[0m\u001b[0m\n\u001b[0m\u001b[1;32m   1042\u001b[0m         \u001b[0mself\u001b[0m\u001b[0;34m.\u001b[0m\u001b[0m_setup_subplots\u001b[0m\u001b[0;34m(\u001b[0m\u001b[0;34m)\u001b[0m\u001b[0;34m\u001b[0m\u001b[0m\n\u001b[1;32m   1043\u001b[0m         \u001b[0mself\u001b[0m\u001b[0;34m.\u001b[0m\u001b[0m_make_plot\u001b[0m\u001b[0;34m(\u001b[0m\u001b[0;34m)\u001b[0m\u001b[0;34m\u001b[0m\u001b[0m\n",
      "\u001b[0;32m/Users/deniska/anaconda/lib/python3.6/site-packages/pandas/tools/plotting.py\u001b[0m in \u001b[0;36m_compute_plot_data\u001b[0;34m(self)\u001b[0m\n\u001b[1;32m   1148\u001b[0m         \u001b[0;32mif\u001b[0m \u001b[0mis_empty\u001b[0m\u001b[0;34m:\u001b[0m\u001b[0;34m\u001b[0m\u001b[0m\n\u001b[1;32m   1149\u001b[0m             raise TypeError('Empty {0!r}: no numeric data to '\n\u001b[0;32m-> 1150\u001b[0;31m                             'plot'.format(numeric_data.__class__.__name__))\n\u001b[0m\u001b[1;32m   1151\u001b[0m \u001b[0;34m\u001b[0m\u001b[0m\n\u001b[1;32m   1152\u001b[0m         \u001b[0mself\u001b[0m\u001b[0;34m.\u001b[0m\u001b[0mdata\u001b[0m \u001b[0;34m=\u001b[0m \u001b[0mnumeric_data\u001b[0m\u001b[0;34m\u001b[0m\u001b[0m\n",
      "\u001b[0;31mTypeError\u001b[0m: Empty 'DataFrame': no numeric data to plot"
     ]
    }
   ],
   "source": [
    "#так не работает -- только чичленные данные!!!\n",
    "data['education'].plot(kind = 'hist')"
   ]
  },
  {
   "cell_type": "code",
   "execution_count": 157,
   "metadata": {
    "collapsed": false
   },
   "outputs": [
    {
     "name": "stdout",
     "output_type": "stream",
     "text": [
      "Populating the interactive namespace from numpy and matplotlib\n"
     ]
    },
    {
     "data": {
      "image/png": "[encoded data removed]",
      "text/plain": [
       "<matplotlib.figure.Figure at 0x115ba3b70>"
      ]
     },
     "metadata": {},
     "output_type": "display_data"
    }
   ],
   "source": [
    "# !conda install seaborn # надо дополнительно установить (команда в терминале)\n",
    "# чтоб картинки рисовались в тетрадке\n",
    "%pylab inline \n",
    "import seaborn as sns\n",
    "figsize(10,8)\n",
    "\n",
    "sns.countplot(x='education', data=data);\n",
    "savefig('int_plan_and_churn.png', dpi=300);"
   ]
  },
  {
   "cell_type": "markdown",
   "metadata": {},
   "source": [
    "**5. Каковы средние и среднеквадратичные отклонения возраста тех, кто получает более 50K в год (признак salary) и тех, кто получает менее 50K в год? **"
   ]
  },
  {
   "cell_type": "code",
   "execution_count": 77,
   "metadata": {
    "collapsed": false
   },
   "outputs": [
    {
     "data": {
      "text/plain": [
       "count     32561\n",
       "unique        2\n",
       "top       <=50K\n",
       "freq      24720\n",
       "Name: salary, dtype: object"
      ]
     },
     "execution_count": 77,
     "metadata": {},
     "output_type": "execute_result"
    }
   ],
   "source": [
    "data['salary'].describe()"
   ]
  },
  {
   "cell_type": "code",
   "execution_count": 78,
   "metadata": {
    "collapsed": false
   },
   "outputs": [
    {
     "data": {
      "text/plain": [
       "count    24720.00\n",
       "mean        36.78\n",
       "std         14.02\n",
       "min         17.00\n",
       "25%         25.00\n",
       "50%         34.00\n",
       "75%         46.00\n",
       "max         90.00\n",
       "Name: age, dtype: float64"
      ]
     },
     "execution_count": 78,
     "metadata": {},
     "output_type": "execute_result"
    }
   ],
   "source": [
    "# Ваш код здесь\n",
    "data[data['salary'] == '<=50K']['age'].describe()"
   ]
  },
  {
   "cell_type": "code",
   "execution_count": 88,
   "metadata": {
    "collapsed": false
   },
   "outputs": [
    {
     "data": {
      "text/html": [
       "<div>\n",
       "<table border=\"1\" class=\"dataframe\">\n",
       "  <thead>\n",
       "    <tr style=\"text-align: right;\">\n",
       "      <th></th>\n",
       "      <th>age</th>\n",
       "      <th>fnlwgt</th>\n",
       "      <th>education-num</th>\n",
       "      <th>capital-gain</th>\n",
       "      <th>capital-loss</th>\n",
       "      <th>hours-per-week</th>\n",
       "    </tr>\n",
       "  </thead>\n",
       "  <tbody>\n",
       "    <tr>\n",
       "      <th>count</th>\n",
       "      <td>24720.00</td>\n",
       "      <td>2.47e+04</td>\n",
       "      <td>24720.00</td>\n",
       "      <td>24720.00</td>\n",
       "      <td>24720.00</td>\n",
       "      <td>24720.00</td>\n",
       "    </tr>\n",
       "    <tr>\n",
       "      <th>mean</th>\n",
       "      <td>36.78</td>\n",
       "      <td>1.90e+05</td>\n",
       "      <td>9.60</td>\n",
       "      <td>148.75</td>\n",
       "      <td>53.14</td>\n",
       "      <td>38.84</td>\n",
       "    </tr>\n",
       "    <tr>\n",
       "      <th>std</th>\n",
       "      <td>14.02</td>\n",
       "      <td>1.06e+05</td>\n",
       "      <td>2.44</td>\n",
       "      <td>963.14</td>\n",
       "      <td>310.76</td>\n",
       "      <td>12.32</td>\n",
       "    </tr>\n",
       "    <tr>\n",
       "      <th>min</th>\n",
       "      <td>17.00</td>\n",
       "      <td>1.23e+04</td>\n",
       "      <td>1.00</td>\n",
       "      <td>0.00</td>\n",
       "      <td>0.00</td>\n",
       "      <td>1.00</td>\n",
       "    </tr>\n",
       "    <tr>\n",
       "      <th>25%</th>\n",
       "      <td>25.00</td>\n",
       "      <td>1.18e+05</td>\n",
       "      <td>9.00</td>\n",
       "      <td>0.00</td>\n",
       "      <td>0.00</td>\n",
       "      <td>35.00</td>\n",
       "    </tr>\n",
       "    <tr>\n",
       "      <th>50%</th>\n",
       "      <td>34.00</td>\n",
       "      <td>1.79e+05</td>\n",
       "      <td>9.00</td>\n",
       "      <td>0.00</td>\n",
       "      <td>0.00</td>\n",
       "      <td>40.00</td>\n",
       "    </tr>\n",
       "    <tr>\n",
       "      <th>75%</th>\n",
       "      <td>46.00</td>\n",
       "      <td>2.39e+05</td>\n",
       "      <td>10.00</td>\n",
       "      <td>0.00</td>\n",
       "      <td>0.00</td>\n",
       "      <td>40.00</td>\n",
       "    </tr>\n",
       "    <tr>\n",
       "      <th>max</th>\n",
       "      <td>90.00</td>\n",
       "      <td>1.48e+06</td>\n",
       "      <td>16.00</td>\n",
       "      <td>41310.00</td>\n",
       "      <td>4356.00</td>\n",
       "      <td>99.00</td>\n",
       "    </tr>\n",
       "  </tbody>\n",
       "</table>\n",
       "</div>"
      ],
      "text/plain": [
       "            age    fnlwgt  education-num  capital-gain  capital-loss  \\\n",
       "count  24720.00  2.47e+04       24720.00      24720.00      24720.00   \n",
       "mean      36.78  1.90e+05           9.60        148.75         53.14   \n",
       "std       14.02  1.06e+05           2.44        963.14        310.76   \n",
       "min       17.00  1.23e+04           1.00          0.00          0.00   \n",
       "25%       25.00  1.18e+05           9.00          0.00          0.00   \n",
       "50%       34.00  1.79e+05           9.00          0.00          0.00   \n",
       "75%       46.00  2.39e+05          10.00          0.00          0.00   \n",
       "max       90.00  1.48e+06          16.00      41310.00       4356.00   \n",
       "\n",
       "       hours-per-week  \n",
       "count        24720.00  \n",
       "mean            38.84  \n",
       "std             12.32  \n",
       "min              1.00  \n",
       "25%             35.00  \n",
       "50%             40.00  \n",
       "75%             40.00  \n",
       "max             99.00  "
      ]
     },
     "execution_count": 88,
     "metadata": {},
     "output_type": "execute_result"
    }
   ],
   "source": [
    "data[(data['salary'] == '<=50K') & (data['age']>0)].describe()"
   ]
  },
  {
   "cell_type": "code",
   "execution_count": 89,
   "metadata": {
    "collapsed": false
   },
   "outputs": [
    {
     "data": {
      "text/plain": [
       "36.78373786407767"
      ]
     },
     "execution_count": 89,
     "metadata": {},
     "output_type": "execute_result"
    }
   ],
   "source": [
    "data[data['salary'] == '<=50K']['age'].mean()"
   ]
  },
  {
   "cell_type": "code",
   "execution_count": 25,
   "metadata": {
    "collapsed": false
   },
   "outputs": [
    {
     "data": {
      "text/plain": [
       "count    7841.00\n",
       "mean       44.25\n",
       "std        10.52\n",
       "min        19.00\n",
       "25%        36.00\n",
       "50%        44.00\n",
       "75%        51.00\n",
       "max        90.00\n",
       "Name: age, dtype: float64"
      ]
     },
     "execution_count": 25,
     "metadata": {},
     "output_type": "execute_result"
    }
   ],
   "source": [
    "data[data['salary'] == '>50K']['age'].describe()"
   ]
  },
  {
   "cell_type": "markdown",
   "metadata": {},
   "source": [
    "**6. Правда ли, что люди, которые получают больше 50k, имеют минимум высшее образование? (признак education - Bachelors, Prof-school, Assoc-acdm, Assoc-voc, Masters или Doctorate)**"
   ]
  },
  {
   "cell_type": "code",
   "execution_count": 148,
   "metadata": {
    "collapsed": false
   },
   "outputs": [
    {
     "data": {
      "text/html": [
       "<div>\n",
       "<table border=\"1\" class=\"dataframe\">\n",
       "  <thead>\n",
       "    <tr style=\"text-align: right;\">\n",
       "      <th>salary</th>\n",
       "      <th>&lt;=50K</th>\n",
       "      <th>&gt;50K</th>\n",
       "    </tr>\n",
       "    <tr>\n",
       "      <th>education</th>\n",
       "      <th></th>\n",
       "      <th></th>\n",
       "    </tr>\n",
       "  </thead>\n",
       "  <tbody>\n",
       "    <tr>\n",
       "      <th>10th</th>\n",
       "      <td>871</td>\n",
       "      <td>62</td>\n",
       "    </tr>\n",
       "    <tr>\n",
       "      <th>11th</th>\n",
       "      <td>1115</td>\n",
       "      <td>60</td>\n",
       "    </tr>\n",
       "    <tr>\n",
       "      <th>12th</th>\n",
       "      <td>400</td>\n",
       "      <td>33</td>\n",
       "    </tr>\n",
       "    <tr>\n",
       "      <th>1st-4th</th>\n",
       "      <td>162</td>\n",
       "      <td>6</td>\n",
       "    </tr>\n",
       "    <tr>\n",
       "      <th>5th-6th</th>\n",
       "      <td>317</td>\n",
       "      <td>16</td>\n",
       "    </tr>\n",
       "    <tr>\n",
       "      <th>7th-8th</th>\n",
       "      <td>606</td>\n",
       "      <td>40</td>\n",
       "    </tr>\n",
       "    <tr>\n",
       "      <th>9th</th>\n",
       "      <td>487</td>\n",
       "      <td>27</td>\n",
       "    </tr>\n",
       "    <tr>\n",
       "      <th>Assoc-acdm</th>\n",
       "      <td>802</td>\n",
       "      <td>265</td>\n",
       "    </tr>\n",
       "    <tr>\n",
       "      <th>Assoc-voc</th>\n",
       "      <td>1021</td>\n",
       "      <td>361</td>\n",
       "    </tr>\n",
       "    <tr>\n",
       "      <th>Bachelors</th>\n",
       "      <td>3134</td>\n",
       "      <td>2221</td>\n",
       "    </tr>\n",
       "    <tr>\n",
       "      <th>Doctorate</th>\n",
       "      <td>107</td>\n",
       "      <td>306</td>\n",
       "    </tr>\n",
       "    <tr>\n",
       "      <th>HS-grad</th>\n",
       "      <td>8826</td>\n",
       "      <td>1675</td>\n",
       "    </tr>\n",
       "    <tr>\n",
       "      <th>Masters</th>\n",
       "      <td>764</td>\n",
       "      <td>959</td>\n",
       "    </tr>\n",
       "    <tr>\n",
       "      <th>Preschool</th>\n",
       "      <td>51</td>\n",
       "      <td>0</td>\n",
       "    </tr>\n",
       "    <tr>\n",
       "      <th>Prof-school</th>\n",
       "      <td>153</td>\n",
       "      <td>423</td>\n",
       "    </tr>\n",
       "    <tr>\n",
       "      <th>Some-college</th>\n",
       "      <td>5904</td>\n",
       "      <td>1387</td>\n",
       "    </tr>\n",
       "  </tbody>\n",
       "</table>\n",
       "</div>"
      ],
      "text/plain": [
       "salary        <=50K  >50K\n",
       "education                \n",
       "10th            871    62\n",
       "11th           1115    60\n",
       "12th            400    33\n",
       "1st-4th         162     6\n",
       "5th-6th         317    16\n",
       "7th-8th         606    40\n",
       "9th             487    27\n",
       "Assoc-acdm      802   265\n",
       "Assoc-voc      1021   361\n",
       "Bachelors      3134  2221\n",
       "Doctorate       107   306\n",
       "HS-grad        8826  1675\n",
       "Masters         764   959\n",
       "Preschool        51     0\n",
       "Prof-school     153   423\n",
       "Some-college   5904  1387"
      ]
     },
     "execution_count": 148,
     "metadata": {},
     "output_type": "execute_result"
    }
   ],
   "source": [
    "# Ваш код здесь\n",
    "pd.crosstab(data['education'], data['salary'])"
   ]
  },
  {
   "cell_type": "code",
   "execution_count": 186,
   "metadata": {
    "collapsed": false
   },
   "outputs": [
    {
     "data": {
      "text/html": [
       "<div>\n",
       "<table border=\"1\" class=\"dataframe\">\n",
       "  <thead>\n",
       "    <tr style=\"text-align: right;\">\n",
       "      <th>salary</th>\n",
       "      <th>&lt;=50K</th>\n",
       "      <th>&gt;50K</th>\n",
       "    </tr>\n",
       "    <tr>\n",
       "      <th>high education</th>\n",
       "      <th></th>\n",
       "      <th></th>\n",
       "    </tr>\n",
       "  </thead>\n",
       "  <tbody>\n",
       "    <tr>\n",
       "      <th>False</th>\n",
       "      <td>19760</td>\n",
       "      <td>3667</td>\n",
       "    </tr>\n",
       "    <tr>\n",
       "      <th>True</th>\n",
       "      <td>4960</td>\n",
       "      <td>4174</td>\n",
       "    </tr>\n",
       "  </tbody>\n",
       "</table>\n",
       "</div>"
      ],
      "text/plain": [
       "salary          <=50K  >50K\n",
       "high education             \n",
       "False           19760  3667\n",
       "True             4960  4174"
      ]
     },
     "execution_count": 186,
     "metadata": {},
     "output_type": "execute_result"
    }
   ],
   "source": [
    "data = pd.read_csv('../../data/adult.data.csv')\n",
    "\n",
    "\n",
    "\n",
    "d = ['Bachelors', 'Prof-school', 'Assoc-acdm', 'Masters', 'Doctorate']\n",
    "high_education = data['education'].map(lambda x: x in d)\n",
    "\n",
    "data.insert(loc = len(data.columns),\n",
    "           column = \"high education\",\n",
    "           value = high_education)\n",
    "data.head()\n",
    "\n",
    "pd.crosstab(data['high education'], data['salary'])"
   ]
  },
  {
   "cell_type": "markdown",
   "metadata": {},
   "source": [
    "**7. Выведите статистику возраста для каждой расы (признак race) и каждого пола. Используйте groupby и describe. Найдите таким образом максимальный возраст мужчин расы Amer-Indian-Eskimo.**"
   ]
  },
  {
   "cell_type": "code",
   "execution_count": 205,
   "metadata": {
    "collapsed": false
   },
   "outputs": [
    {
     "data": {
      "text/plain": [
       "race                sex          \n",
       "Amer-Indian-Eskimo  Female  count      119.00\n",
       "                            mean        37.12\n",
       "                            std         13.11\n",
       "                            min         17.00\n",
       "                            50%         36.00\n",
       "                            max         80.00\n",
       "                    Male    count      192.00\n",
       "                            mean        37.21\n",
       "                            std         12.05\n",
       "                            min         17.00\n",
       "                            50%         35.00\n",
       "                            max         82.00\n",
       "Asian-Pac-Islander  Female  count      346.00\n",
       "                            mean        35.09\n",
       "                            std         12.30\n",
       "                            min         17.00\n",
       "                            50%         33.00\n",
       "                            max         75.00\n",
       "                    Male    count      693.00\n",
       "                            mean        39.07\n",
       "                            std         12.88\n",
       "                            min         18.00\n",
       "                            50%         37.00\n",
       "                            max         90.00\n",
       "Black               Female  count     1555.00\n",
       "                            mean        37.85\n",
       "                            std         12.64\n",
       "                            min         17.00\n",
       "                            50%         37.00\n",
       "                            max         90.00\n",
       "                    Male    count     1569.00\n",
       "                            mean        37.68\n",
       "                            std         12.88\n",
       "                            min         17.00\n",
       "                            50%         36.00\n",
       "                            max         90.00\n",
       "Other               Female  count      109.00\n",
       "                            mean        31.68\n",
       "                            std         11.63\n",
       "                            min         17.00\n",
       "                            50%         29.00\n",
       "                            max         74.00\n",
       "                    Male    count      162.00\n",
       "                            mean        34.65\n",
       "                            std         11.36\n",
       "                            min         17.00\n",
       "                            50%         32.00\n",
       "                            max         77.00\n",
       "White               Female  count     8642.00\n",
       "                            mean        36.81\n",
       "                            std         14.33\n",
       "                            min         17.00\n",
       "                            50%         35.00\n",
       "                            max         90.00\n",
       "                    Male    count    19174.00\n",
       "                            mean        39.65\n",
       "                            std         13.44\n",
       "                            min         17.00\n",
       "                            50%         38.00\n",
       "                            max         90.00\n",
       "Name: age, dtype: float64"
      ]
     },
     "execution_count": 205,
     "metadata": {},
     "output_type": "execute_result"
    }
   ],
   "source": [
    "# Ваш код здесь\n",
    "data.groupby(['race', 'sex'])['age'].describe(percentiles=[])"
   ]
  },
  {
   "cell_type": "markdown",
   "metadata": {},
   "source": [
    "**8. Среди кого больше доля зарабатывающих много (>50K): среди женатых или холостых мужчин (признак marital-status)?**"
   ]
  },
  {
   "cell_type": "code",
   "execution_count": 11,
   "metadata": {
    "collapsed": false
   },
   "outputs": [
    {
     "data": {
      "text/html": [
       "<div>\n",
       "<table border=\"1\" class=\"dataframe\">\n",
       "  <thead>\n",
       "    <tr style=\"text-align: right;\">\n",
       "      <th>salary</th>\n",
       "      <th>&gt;50K</th>\n",
       "    </tr>\n",
       "    <tr>\n",
       "      <th>marital-status</th>\n",
       "      <th></th>\n",
       "    </tr>\n",
       "  </thead>\n",
       "  <tbody>\n",
       "    <tr>\n",
       "      <th>Divorced</th>\n",
       "      <td>284</td>\n",
       "    </tr>\n",
       "    <tr>\n",
       "      <th>Married-AF-spouse</th>\n",
       "      <td>4</td>\n",
       "    </tr>\n",
       "    <tr>\n",
       "      <th>Married-civ-spouse</th>\n",
       "      <td>5938</td>\n",
       "    </tr>\n",
       "    <tr>\n",
       "      <th>Married-spouse-absent</th>\n",
       "      <td>23</td>\n",
       "    </tr>\n",
       "    <tr>\n",
       "      <th>Never-married</th>\n",
       "      <td>325</td>\n",
       "    </tr>\n",
       "    <tr>\n",
       "      <th>Separated</th>\n",
       "      <td>49</td>\n",
       "    </tr>\n",
       "    <tr>\n",
       "      <th>Widowed</th>\n",
       "      <td>39</td>\n",
       "    </tr>\n",
       "  </tbody>\n",
       "</table>\n",
       "</div>"
      ],
      "text/plain": [
       "salary                 >50K\n",
       "marital-status             \n",
       "Divorced                284\n",
       "Married-AF-spouse         4\n",
       "Married-civ-spouse     5938\n",
       "Married-spouse-absent    23\n",
       "Never-married           325\n",
       "Separated                49\n",
       "Widowed                  39"
      ]
     },
     "execution_count": 11,
     "metadata": {},
     "output_type": "execute_result"
    }
   ],
   "source": [
    "# Ваш код здесь\n",
    "menData = data[data['sex'] == \"Male\"]\n",
    "pd.crosstab(menData['marital-status'], menData[menData['salary'] == \">50K\"]['salary'])"
   ]
  },
  {
   "cell_type": "code",
   "execution_count": null,
   "metadata": {
    "collapsed": true
   },
   "outputs": [],
   "source": []
  },
  {
   "cell_type": "markdown",
   "metadata": {},
   "source": [
    "**9. Какое максимальное число часов человек работает в неделю (признак hours-per-week)? Сколько людей работают такое количество часов и каков среди них процент зарабатывающих много?**"
   ]
  },
  {
   "cell_type": "code",
   "execution_count": 19,
   "metadata": {
    "collapsed": false
   },
   "outputs": [
    {
     "data": {
      "text/html": [
       "<div>\n",
       "<table border=\"1\" class=\"dataframe\">\n",
       "  <thead>\n",
       "    <tr style=\"text-align: right;\">\n",
       "      <th></th>\n",
       "      <th>age</th>\n",
       "      <th>fnlwgt</th>\n",
       "      <th>education-num</th>\n",
       "      <th>capital-gain</th>\n",
       "      <th>capital-loss</th>\n",
       "      <th>hours-per-week</th>\n",
       "    </tr>\n",
       "  </thead>\n",
       "  <tbody>\n",
       "    <tr>\n",
       "      <th>count</th>\n",
       "      <td>32561.00</td>\n",
       "      <td>3.26e+04</td>\n",
       "      <td>32561.00</td>\n",
       "      <td>32561.00</td>\n",
       "      <td>32561.00</td>\n",
       "      <td>32561.00</td>\n",
       "    </tr>\n",
       "    <tr>\n",
       "      <th>mean</th>\n",
       "      <td>38.58</td>\n",
       "      <td>1.90e+05</td>\n",
       "      <td>10.08</td>\n",
       "      <td>1077.65</td>\n",
       "      <td>87.30</td>\n",
       "      <td>40.44</td>\n",
       "    </tr>\n",
       "    <tr>\n",
       "      <th>std</th>\n",
       "      <td>13.64</td>\n",
       "      <td>1.06e+05</td>\n",
       "      <td>2.57</td>\n",
       "      <td>7385.29</td>\n",
       "      <td>402.96</td>\n",
       "      <td>12.35</td>\n",
       "    </tr>\n",
       "    <tr>\n",
       "      <th>min</th>\n",
       "      <td>17.00</td>\n",
       "      <td>1.23e+04</td>\n",
       "      <td>1.00</td>\n",
       "      <td>0.00</td>\n",
       "      <td>0.00</td>\n",
       "      <td>1.00</td>\n",
       "    </tr>\n",
       "    <tr>\n",
       "      <th>25%</th>\n",
       "      <td>28.00</td>\n",
       "      <td>1.18e+05</td>\n",
       "      <td>9.00</td>\n",
       "      <td>0.00</td>\n",
       "      <td>0.00</td>\n",
       "      <td>40.00</td>\n",
       "    </tr>\n",
       "    <tr>\n",
       "      <th>50%</th>\n",
       "      <td>37.00</td>\n",
       "      <td>1.78e+05</td>\n",
       "      <td>10.00</td>\n",
       "      <td>0.00</td>\n",
       "      <td>0.00</td>\n",
       "      <td>40.00</td>\n",
       "    </tr>\n",
       "    <tr>\n",
       "      <th>75%</th>\n",
       "      <td>48.00</td>\n",
       "      <td>2.37e+05</td>\n",
       "      <td>12.00</td>\n",
       "      <td>0.00</td>\n",
       "      <td>0.00</td>\n",
       "      <td>45.00</td>\n",
       "    </tr>\n",
       "    <tr>\n",
       "      <th>max</th>\n",
       "      <td>90.00</td>\n",
       "      <td>1.48e+06</td>\n",
       "      <td>16.00</td>\n",
       "      <td>99999.00</td>\n",
       "      <td>4356.00</td>\n",
       "      <td>99.00</td>\n",
       "    </tr>\n",
       "  </tbody>\n",
       "</table>\n",
       "</div>"
      ],
      "text/plain": [
       "            age    fnlwgt  education-num  capital-gain  capital-loss  \\\n",
       "count  32561.00  3.26e+04       32561.00      32561.00      32561.00   \n",
       "mean      38.58  1.90e+05          10.08       1077.65         87.30   \n",
       "std       13.64  1.06e+05           2.57       7385.29        402.96   \n",
       "min       17.00  1.23e+04           1.00          0.00          0.00   \n",
       "25%       28.00  1.18e+05           9.00          0.00          0.00   \n",
       "50%       37.00  1.78e+05          10.00          0.00          0.00   \n",
       "75%       48.00  2.37e+05          12.00          0.00          0.00   \n",
       "max       90.00  1.48e+06          16.00      99999.00       4356.00   \n",
       "\n",
       "       hours-per-week  \n",
       "count        32561.00  \n",
       "mean            40.44  \n",
       "std             12.35  \n",
       "min              1.00  \n",
       "25%             40.00  \n",
       "50%             40.00  \n",
       "75%             45.00  \n",
       "max             99.00  "
      ]
     },
     "execution_count": 19,
     "metadata": {},
     "output_type": "execute_result"
    }
   ],
   "source": [
    "data.describe()"
   ]
  },
  {
   "cell_type": "code",
   "execution_count": 20,
   "metadata": {
    "collapsed": false
   },
   "outputs": [
    {
     "data": {
      "text/html": [
       "<div>\n",
       "<table border=\"1\" class=\"dataframe\">\n",
       "  <thead>\n",
       "    <tr style=\"text-align: right;\">\n",
       "      <th></th>\n",
       "      <th>age</th>\n",
       "      <th>fnlwgt</th>\n",
       "      <th>education-num</th>\n",
       "      <th>capital-gain</th>\n",
       "      <th>capital-loss</th>\n",
       "      <th>hours-per-week</th>\n",
       "    </tr>\n",
       "  </thead>\n",
       "  <tbody>\n",
       "    <tr>\n",
       "      <th>count</th>\n",
       "      <td>85.00</td>\n",
       "      <td>85.00</td>\n",
       "      <td>85.00</td>\n",
       "      <td>85.00</td>\n",
       "      <td>85.00</td>\n",
       "      <td>85.0</td>\n",
       "    </tr>\n",
       "    <tr>\n",
       "      <th>mean</th>\n",
       "      <td>43.52</td>\n",
       "      <td>161462.13</td>\n",
       "      <td>10.61</td>\n",
       "      <td>799.53</td>\n",
       "      <td>125.72</td>\n",
       "      <td>99.0</td>\n",
       "    </tr>\n",
       "    <tr>\n",
       "      <th>std</th>\n",
       "      <td>13.34</td>\n",
       "      <td>103387.09</td>\n",
       "      <td>3.42</td>\n",
       "      <td>2932.86</td>\n",
       "      <td>508.92</td>\n",
       "      <td>0.0</td>\n",
       "    </tr>\n",
       "    <tr>\n",
       "      <th>min</th>\n",
       "      <td>19.00</td>\n",
       "      <td>24790.00</td>\n",
       "      <td>4.00</td>\n",
       "      <td>0.00</td>\n",
       "      <td>0.00</td>\n",
       "      <td>99.0</td>\n",
       "    </tr>\n",
       "    <tr>\n",
       "      <th>25%</th>\n",
       "      <td>34.00</td>\n",
       "      <td>89681.00</td>\n",
       "      <td>9.00</td>\n",
       "      <td>0.00</td>\n",
       "      <td>0.00</td>\n",
       "      <td>99.0</td>\n",
       "    </tr>\n",
       "    <tr>\n",
       "      <th>50%</th>\n",
       "      <td>42.00</td>\n",
       "      <td>158712.00</td>\n",
       "      <td>10.00</td>\n",
       "      <td>0.00</td>\n",
       "      <td>0.00</td>\n",
       "      <td>99.0</td>\n",
       "    </tr>\n",
       "    <tr>\n",
       "      <th>75%</th>\n",
       "      <td>51.00</td>\n",
       "      <td>208826.00</td>\n",
       "      <td>13.00</td>\n",
       "      <td>0.00</td>\n",
       "      <td>0.00</td>\n",
       "      <td>99.0</td>\n",
       "    </tr>\n",
       "    <tr>\n",
       "      <th>max</th>\n",
       "      <td>90.00</td>\n",
       "      <td>511289.00</td>\n",
       "      <td>16.00</td>\n",
       "      <td>15024.00</td>\n",
       "      <td>2415.00</td>\n",
       "      <td>99.0</td>\n",
       "    </tr>\n",
       "  </tbody>\n",
       "</table>\n",
       "</div>"
      ],
      "text/plain": [
       "         age     fnlwgt  education-num  capital-gain  capital-loss  \\\n",
       "count  85.00      85.00          85.00         85.00         85.00   \n",
       "mean   43.52  161462.13          10.61        799.53        125.72   \n",
       "std    13.34  103387.09           3.42       2932.86        508.92   \n",
       "min    19.00   24790.00           4.00          0.00          0.00   \n",
       "25%    34.00   89681.00           9.00          0.00          0.00   \n",
       "50%    42.00  158712.00          10.00          0.00          0.00   \n",
       "75%    51.00  208826.00          13.00          0.00          0.00   \n",
       "max    90.00  511289.00          16.00      15024.00       2415.00   \n",
       "\n",
       "       hours-per-week  \n",
       "count            85.0  \n",
       "mean             99.0  \n",
       "std               0.0  \n",
       "min              99.0  \n",
       "25%              99.0  \n",
       "50%              99.0  \n",
       "75%              99.0  \n",
       "max              99.0  "
      ]
     },
     "execution_count": 20,
     "metadata": {},
     "output_type": "execute_result"
    }
   ],
   "source": [
    "# Ваш код здесь\n",
    "data[data[\"hours-per-week\"] == 99].describe()"
   ]
  },
  {
   "cell_type": "code",
   "execution_count": 22,
   "metadata": {
    "collapsed": false
   },
   "outputs": [
    {
     "data": {
      "text/plain": [
       "<=50K    0.71\n",
       ">50K     0.29\n",
       "Name: salary, dtype: float64"
      ]
     },
     "execution_count": 22,
     "metadata": {},
     "output_type": "execute_result"
    }
   ],
   "source": [
    "data[data[\"hours-per-week\"] == 99]['salary'].value_counts(normalize=True)"
   ]
  },
  {
   "cell_type": "markdown",
   "metadata": {},
   "source": [
    "**10. Посчитайте среднее время работы (hours-per-week) зарабатывающих много и мало (salary) для каждой страны (native-country).**"
   ]
  },
  {
   "cell_type": "code",
   "execution_count": 29,
   "metadata": {
    "collapsed": false
   },
   "outputs": [
    {
     "data": {
      "text/plain": [
       "United-States                 29170\n",
       "Mexico                          643\n",
       "?                               583\n",
       "Philippines                     198\n",
       "Germany                         137\n",
       "Canada                          121\n",
       "Puerto-Rico                     114\n",
       "El-Salvador                     106\n",
       "India                           100\n",
       "Cuba                             95\n",
       "England                          90\n",
       "Jamaica                          81\n",
       "South                            80\n",
       "China                            75\n",
       "Italy                            73\n",
       "Dominican-Republic               70\n",
       "Vietnam                          67\n",
       "Guatemala                        64\n",
       "Japan                            62\n",
       "Poland                           60\n",
       "Columbia                         59\n",
       "Taiwan                           51\n",
       "Haiti                            44\n",
       "Iran                             43\n",
       "Portugal                         37\n",
       "Nicaragua                        34\n",
       "Peru                             31\n",
       "France                           29\n",
       "Greece                           29\n",
       "Ecuador                          28\n",
       "Ireland                          24\n",
       "Hong                             20\n",
       "Trinadad&Tobago                  19\n",
       "Cambodia                         19\n",
       "Thailand                         18\n",
       "Laos                             18\n",
       "Yugoslavia                       16\n",
       "Outlying-US(Guam-USVI-etc)       14\n",
       "Honduras                         13\n",
       "Hungary                          13\n",
       "Scotland                         12\n",
       "Holand-Netherlands                1\n",
       "Name: native-country, dtype: int64"
      ]
     },
     "execution_count": 29,
     "metadata": {},
     "output_type": "execute_result"
    }
   ],
   "source": [
    "data['native-country'].value_counts()"
   ]
  },
  {
   "cell_type": "code",
   "execution_count": 30,
   "metadata": {
    "collapsed": false
   },
   "outputs": [
    {
     "data": {
      "text/plain": [
       "native-country              salary       \n",
       "?                           <=50K   count      437.00\n",
       "                                    mean        40.16\n",
       "                                    std         12.82\n",
       "                                    min          1.00\n",
       "                                    50%         40.00\n",
       "                                    max         99.00\n",
       "                            >50K    count      146.00\n",
       "                                    mean        45.55\n",
       "                                    std         10.20\n",
       "                                    min          8.00\n",
       "                                    50%         40.00\n",
       "                                    max         80.00\n",
       "Cambodia                    <=50K   count       12.00\n",
       "                                    mean        41.42\n",
       "                                    std          3.09\n",
       "                                    min         40.00\n",
       "                                    50%         40.00\n",
       "                                    max         50.00\n",
       "                            >50K    count        7.00\n",
       "                                    mean        40.00\n",
       "                                    std          0.00\n",
       "                                    min         40.00\n",
       "                                    50%         40.00\n",
       "                                    max         40.00\n",
       "Canada                      <=50K   count       82.00\n",
       "                                    mean        37.91\n",
       "                                    std         13.01\n",
       "                                    min          8.00\n",
       "                                    50%         40.00\n",
       "                                    max         70.00\n",
       "                            >50K    count       39.00\n",
       "                                    mean        45.64\n",
       "                                    std         12.07\n",
       "                                    min         20.00\n",
       "                                    50%         45.00\n",
       "                                    max         72.00\n",
       "China                       <=50K   count       55.00\n",
       "                                    mean        37.38\n",
       "                                    std         11.44\n",
       "                                    min          1.00\n",
       "                                    50%         40.00\n",
       "                                    max         60.00\n",
       "                            >50K    count       20.00\n",
       "                                    mean        38.90\n",
       "                                    std         10.13\n",
       "                                    min         10.00\n",
       "                                    50%         40.00\n",
       "                                    max         60.00\n",
       "Columbia                    <=50K   count       57.00\n",
       "                                    mean        38.68\n",
       "                                    std          8.61\n",
       "                                    min          5.00\n",
       "                                    50%         40.00\n",
       "                                    max         60.00\n",
       "                            >50K    count        2.00\n",
       "                                    mean        50.00\n",
       "                                    std          0.00\n",
       "                                    min         50.00\n",
       "                                    50%         50.00\n",
       "                                    max         50.00\n",
       "Cuba                        <=50K   count       70.00\n",
       "                                    mean        37.99\n",
       "                                    std          9.96\n",
       "                                    min          5.00\n",
       "                                    50%         40.00\n",
       "                                    max         70.00\n",
       "                            >50K    count       25.00\n",
       "                                    mean        42.44\n",
       "                                    std         12.45\n",
       "                                    min         14.00\n",
       "                                    50%         40.00\n",
       "                                    max         60.00\n",
       "Dominican-Republic          <=50K   count       68.00\n",
       "                                    mean        42.34\n",
       "                                    std         11.12\n",
       "                                    min         22.00\n",
       "                                    50%         40.00\n",
       "                                    max         98.00\n",
       "                            >50K    count        2.00\n",
       "                                    mean        47.00\n",
       "                                    std          9.90\n",
       "                                    min         40.00\n",
       "                                    50%         47.00\n",
       "                                    max         54.00\n",
       "Ecuador                     <=50K   count       24.00\n",
       "                                    mean        38.04\n",
       "                                    std         10.25\n",
       "                                    min         22.00\n",
       "                                    50%         40.00\n",
       "                                    max         66.00\n",
       "                            >50K    count        4.00\n",
       "                                    mean        48.75\n",
       "                                    std          2.50\n",
       "                                    min         45.00\n",
       "                                    50%         50.00\n",
       "                                    max         50.00\n",
       "El-Salvador                 <=50K   count       97.00\n",
       "                                    mean        36.03\n",
       "                                    std          9.40\n",
       "                                    min          3.00\n",
       "                                    50%         40.00\n",
       "                                    max         60.00\n",
       "                            >50K    count        9.00\n",
       "                                    mean        45.00\n",
       "                                    std          7.07\n",
       "                                    min         35.00\n",
       "                                    50%         45.00\n",
       "                                    max         55.00\n",
       "England                     <=50K   count       60.00\n",
       "                                    mean        40.48\n",
       "                                    std         15.18\n",
       "                                    min          7.00\n",
       "                                    50%         40.00\n",
       "                                    max         99.00\n",
       "                            >50K    count       30.00\n",
       "                                    mean        44.53\n",
       "                                    std         11.07\n",
       "                                    min         20.00\n",
       "                                    50%         40.00\n",
       "                                    max         85.00\n",
       "France                      <=50K   count       17.00\n",
       "                                    mean        41.06\n",
       "                                    std         12.40\n",
       "                                    min         15.00\n",
       "                                    50%         40.00\n",
       "                                    max         66.00\n",
       "                            >50K    count       12.00\n",
       "                                    mean        50.75\n",
       "                                    std         16.36\n",
       "                                    min         40.00\n",
       "                                    50%         47.50\n",
       "                                    max         99.00\n",
       "Germany                     <=50K   count       93.00\n",
       "                                    mean        39.14\n",
       "                                    std         12.12\n",
       "                                    min          6.00\n",
       "                                    50%         40.00\n",
       "                                    max         70.00\n",
       "                            >50K    count       44.00\n",
       "                                    mean        44.98\n",
       "                                    std         11.94\n",
       "                                    min          8.00\n",
       "                                    50%         45.00\n",
       "                                    max         70.00\n",
       "Greece                      <=50K   count       21.00\n",
       "                                    mean        41.81\n",
       "                                    std         16.86\n",
       "                                    min          4.00\n",
       "                                    50%         40.00\n",
       "                                    max         75.00\n",
       "                            >50K    count        8.00\n",
       "                                    mean        50.62\n",
       "                                    std         11.78\n",
       "                                    min         35.00\n",
       "                                    50%         50.00\n",
       "                                    max         65.00\n",
       "Guatemala                   <=50K   count       61.00\n",
       "                                    mean        39.36\n",
       "                                    std          6.57\n",
       "                                    min         18.00\n",
       "                                    50%         40.00\n",
       "                                    max         60.00\n",
       "                            >50K    count        3.00\n",
       "                                    mean        36.67\n",
       "                                    std          5.77\n",
       "                                    min         30.00\n",
       "                                    50%         40.00\n",
       "                                    max         40.00\n",
       "Haiti                       <=50K   count       40.00\n",
       "                                    mean        36.33\n",
       "                                    std         11.94\n",
       "                                    min         10.00\n",
       "                                    50%         40.00\n",
       "                                    max         75.00\n",
       "                            >50K    count        4.00\n",
       "                                    mean        42.75\n",
       "                                    std          9.14\n",
       "                                    min         35.00\n",
       "                                    50%         40.00\n",
       "                                    max         56.00\n",
       "Holand-Netherlands          <=50K   count        1.00\n",
       "                                    mean        40.00\n",
       "                                    std           NaN\n",
       "                                    min         40.00\n",
       "                                    50%         40.00\n",
       "                                    max         40.00\n",
       "Honduras                    <=50K   count       12.00\n",
       "                                    mean        34.33\n",
       "                                    std          8.63\n",
       "                                    min         17.00\n",
       "                                    50%         37.50\n",
       "                                    max         45.00\n",
       "                            >50K    count        1.00\n",
       "                                    mean        60.00\n",
       "                                    std           NaN\n",
       "                                    min         60.00\n",
       "                                    50%         60.00\n",
       "                                    max         60.00\n",
       "Hong                        <=50K   count       14.00\n",
       "                                    mean        39.14\n",
       "                                    std          4.29\n",
       "                                    min         30.00\n",
       "                                    50%         40.00\n",
       "                                    max         50.00\n",
       "                            >50K    count        6.00\n",
       "                                    mean        45.00\n",
       "                                    std         10.00\n",
       "                                    min         40.00\n",
       "                                    50%         40.00\n",
       "                                    max         65.00\n",
       "Hungary                     <=50K   count       10.00\n",
       "                                    mean        31.30\n",
       "                                    std         18.60\n",
       "                                    min          3.00\n",
       "                                    50%         30.00\n",
       "                                    max         60.00\n",
       "                            >50K    count        3.00\n",
       "                                    mean        50.00\n",
       "                                    std         10.00\n",
       "                                    min         40.00\n",
       "                                    50%         50.00\n",
       "                                    max         60.00\n",
       "India                       <=50K   count       60.00\n",
       "                                    mean        38.23\n",
       "                                    std         12.62\n",
       "                                    min          8.00\n",
       "                                    50%         40.00\n",
       "                                    max         84.00\n",
       "                            >50K    count       40.00\n",
       "                                    mean        46.48\n",
       "                                    std         10.06\n",
       "                                    min         20.00\n",
       "                                    50%         41.50\n",
       "                                    max         72.00\n",
       "Iran                        <=50K   count       25.00\n",
       "                                    mean        41.44\n",
       "                                    std         12.44\n",
       "                                    min          6.00\n",
       "                                    50%         40.00\n",
       "                                    max         65.00\n",
       "                            >50K    count       18.00\n",
       "                                    mean        47.50\n",
       "                                    std         10.33\n",
       "                                    min         30.00\n",
       "                                    50%         45.00\n",
       "                                    max         70.00\n",
       "Ireland                     <=50K   count       19.00\n",
       "                                    mean        40.95\n",
       "                                    std          7.18\n",
       "                                    min         25.00\n",
       "                                    50%         40.00\n",
       "                                    max         55.00\n",
       "                            >50K    count        5.00\n",
       "                                    mean        48.00\n",
       "                                    std         10.95\n",
       "                                    min         40.00\n",
       "                                    50%         40.00\n",
       "                                    max         60.00\n",
       "Italy                       <=50K   count       48.00\n",
       "                                    mean        39.62\n",
       "                                    std         15.09\n",
       "                                    min          6.00\n",
       "                                    50%         40.00\n",
       "                                    max         80.00\n",
       "                            >50K    count       25.00\n",
       "                                    mean        45.40\n",
       "                                    std          9.50\n",
       "                                    min         20.00\n",
       "                                    50%         40.00\n",
       "                                    max         67.00\n",
       "Jamaica                     <=50K   count       71.00\n",
       "                                    mean        38.24\n",
       "                                    std          9.67\n",
       "                                    min         10.00\n",
       "                                    50%         40.00\n",
       "                                    max         70.00\n",
       "                            >50K    count       10.00\n",
       "                                    mean        41.10\n",
       "                                    std          4.95\n",
       "                                    min         35.00\n",
       "                                    50%         40.00\n",
       "                                    max         50.00\n",
       "Japan                       <=50K   count       38.00\n",
       "                                    mean        41.00\n",
       "                                    std         11.90\n",
       "                                    min         10.00\n",
       "                                    50%         40.00\n",
       "                                    max         65.00\n",
       "                            >50K    count       24.00\n",
       "                                    mean        47.96\n",
       "                                    std         16.12\n",
       "                                    min         21.00\n",
       "                                    50%         42.50\n",
       "                                    max         99.00\n",
       "Laos                        <=50K   count       16.00\n",
       "                                    mean        40.38\n",
       "                                    std          4.11\n",
       "                                    min         31.00\n",
       "                                    50%         40.00\n",
       "                                    max         50.00\n",
       "                            >50K    count        2.00\n",
       "                                    mean        40.00\n",
       "                                    std          0.00\n",
       "                                    min         40.00\n",
       "                                    50%         40.00\n",
       "                                    max         40.00\n",
       "Mexico                      <=50K   count      610.00\n",
       "                                    mean        40.00\n",
       "                                    std         10.38\n",
       "                                    min          4.00\n",
       "                                    50%         40.00\n",
       "                                    max         99.00\n",
       "                            >50K    count       33.00\n",
       "                                    mean        46.58\n",
       "                                    std         10.92\n",
       "                                    min         30.00\n",
       "                                    50%         40.00\n",
       "                                    max         80.00\n",
       "Nicaragua                   <=50K   count       32.00\n",
       "                                    mean        36.09\n",
       "                                    std          8.66\n",
       "                                    min         11.00\n",
       "                                    50%         40.00\n",
       "                                    max         60.00\n",
       "                            >50K    count        2.00\n",
       "                                    mean        37.50\n",
       "                                    std          3.54\n",
       "                                    min         35.00\n",
       "                                    50%         37.50\n",
       "                                    max         40.00\n",
       "Outlying-US(Guam-USVI-etc)  <=50K   count       14.00\n",
       "                                    mean        41.86\n",
       "                                    std         10.75\n",
       "                                    min         24.00\n",
       "                                    50%         40.00\n",
       "                                    max         60.00\n",
       "Peru                        <=50K   count       29.00\n",
       "                                    mean        35.07\n",
       "                                    std         11.61\n",
       "                                    min          4.00\n",
       "                                    50%         40.00\n",
       "                                    max         60.00\n",
       "                            >50K    count        2.00\n",
       "                                    mean        40.00\n",
       "                                    std          0.00\n",
       "                                    min         40.00\n",
       "                                    50%         40.00\n",
       "                                    max         40.00\n",
       "Philippines                 <=50K   count      137.00\n",
       "                                    mean        38.07\n",
       "                                    std         11.27\n",
       "                                    min          8.00\n",
       "                                    50%         40.00\n",
       "                                    max         99.00\n",
       "                            >50K    count       61.00\n",
       "                                    mean        43.03\n",
       "                                    std          8.45\n",
       "                                    min         35.00\n",
       "                                    50%         40.00\n",
       "                                    max         80.00\n",
       "Poland                      <=50K   count       48.00\n",
       "                                    mean        38.17\n",
       "                                    std         12.24\n",
       "                                    min          3.00\n",
       "                                    50%         40.00\n",
       "                                    max         65.00\n",
       "                            >50K    count       12.00\n",
       "                                    mean        39.00\n",
       "                                    std          9.78\n",
       "                                    min         10.00\n",
       "                                    50%         40.00\n",
       "                                    max         50.00\n",
       "Portugal                    <=50K   count       33.00\n",
       "                                    mean        41.94\n",
       "                                    std          9.06\n",
       "                                    min         30.00\n",
       "                                    50%         40.00\n",
       "                                    max         84.00\n",
       "                            >50K    count        4.00\n",
       "                                    mean        41.50\n",
       "                                    std          5.97\n",
       "                                    min         36.00\n",
       "                                    50%         40.00\n",
       "                                    max         50.00\n",
       "Puerto-Rico                 <=50K   count      102.00\n",
       "                                    mean        38.47\n",
       "                                    std          9.75\n",
       "                                    min          6.00\n",
       "                                    50%         40.00\n",
       "                                    max         80.00\n",
       "                            >50K    count       12.00\n",
       "                                    mean        39.42\n",
       "                                    std         11.06\n",
       "                                    min          8.00\n",
       "                                    50%         40.00\n",
       "                                    max         50.00\n",
       "Scotland                    <=50K   count        9.00\n",
       "                                    mean        39.44\n",
       "                                    std          9.17\n",
       "                                    min         20.00\n",
       "                                    50%         40.00\n",
       "                                    max         55.00\n",
       "                            >50K    count        3.00\n",
       "                                    mean        46.67\n",
       "                                    std         11.55\n",
       "                                    min         40.00\n",
       "                                    50%         40.00\n",
       "                                    max         60.00\n",
       "South                       <=50K   count       64.00\n",
       "                                    mean        40.16\n",
       "                                    std         16.83\n",
       "                                    min          4.00\n",
       "                                    50%         40.00\n",
       "                                    max         99.00\n",
       "                            >50K    count       16.00\n",
       "                                    mean        51.44\n",
       "                                    std         10.94\n",
       "                                    min         35.00\n",
       "                                    50%         50.00\n",
       "                                    max         70.00\n",
       "Taiwan                      <=50K   count       31.00\n",
       "                                    mean        33.77\n",
       "                                    std         14.27\n",
       "                                    min          2.00\n",
       "                                    50%         40.00\n",
       "                                    max         60.00\n",
       "                            >50K    count       20.00\n",
       "                                    mean        46.80\n",
       "                                    std         13.49\n",
       "                                    min         27.00\n",
       "                                    50%         40.00\n",
       "                                    max         84.00\n",
       "Thailand                    <=50K   count       15.00\n",
       "                                    mean        42.87\n",
       "                                    std         20.41\n",
       "                                    min         10.00\n",
       "                                    50%         40.00\n",
       "                                    max         80.00\n",
       "                            >50K    count        3.00\n",
       "                                    mean        58.33\n",
       "                                    std         14.43\n",
       "                                    min         50.00\n",
       "                                    50%         50.00\n",
       "                                    max         75.00\n",
       "Trinadad&Tobago             <=50K   count       17.00\n",
       "                                    mean        37.06\n",
       "                                    std         12.48\n",
       "                                    min         14.00\n",
       "                                    50%         40.00\n",
       "                                    max         60.00\n",
       "                            >50K    count        2.00\n",
       "                                    mean        40.00\n",
       "                                    std          0.00\n",
       "                                    min         40.00\n",
       "                                    50%         40.00\n",
       "                                    max         40.00\n",
       "United-States               <=50K   count    21999.00\n",
       "                                    mean        38.80\n",
       "                                    std         12.40\n",
       "                                    min          1.00\n",
       "                                    50%         40.00\n",
       "                                    max         99.00\n",
       "                            >50K    count     7171.00\n",
       "                                    mean        45.51\n",
       "                                    std         11.03\n",
       "                                    min          1.00\n",
       "                                    50%         40.00\n",
       "                                    max         99.00\n",
       "Vietnam                     <=50K   count       62.00\n",
       "                                    mean        37.19\n",
       "                                    std         12.42\n",
       "                                    min          1.00\n",
       "                                    50%         40.00\n",
       "                                    max         77.00\n",
       "                            >50K    count        5.00\n",
       "                                    mean        39.20\n",
       "                                    std          1.79\n",
       "                                    min         36.00\n",
       "                                    50%         40.00\n",
       "                                    max         40.00\n",
       "Yugoslavia                  <=50K   count       10.00\n",
       "                                    mean        41.60\n",
       "                                    std         11.31\n",
       "                                    min         20.00\n",
       "                                    50%         40.00\n",
       "                                    max         66.00\n",
       "                            >50K    count        6.00\n",
       "                                    mean        49.50\n",
       "                                    std         11.20\n",
       "                                    min         40.00\n",
       "                                    50%         46.00\n",
       "                                    max         65.00\n",
       "Name: hours-per-week, dtype: float64"
      ]
     },
     "execution_count": 30,
     "metadata": {},
     "output_type": "execute_result"
    }
   ],
   "source": [
    "# Ваш код здесь\n",
    "pd.set_option('display.max_rows', 10000)\n",
    "data.groupby(['native-country', 'salary'])['hours-per-week'].describe(percentiles=[])"
   ]
  },
  {
   "cell_type": "code",
   "execution_count": null,
   "metadata": {
    "collapsed": true
   },
   "outputs": [],
   "source": []
  }
 ],
 "metadata": {
  "anaconda-cloud": {},
  "kernelspec": {
   "display_name": "Python 3",
   "language": "python",
   "name": "python3"
  },
  "language_info": {
   "codemirror_mode": {
    "name": "ipython",
    "version": 3
   },
   "file_extension": ".py",
   "mimetype": "text/x-python",
   "name": "python",
   "nbconvert_exporter": "python",
   "pygments_lexer": "ipython3",
   "version": "3.6.0"
  }
 },
 "nbformat": 4,
 "nbformat_minor": 0
}
